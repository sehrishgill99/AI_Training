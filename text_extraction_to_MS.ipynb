{
 "cells": [
  {
   "cell_type": "code",
   "execution_count": 1,
   "id": "b97a8e02",
   "metadata": {},
   "outputs": [
    {
     "name": "stdout",
     "output_type": "stream",
     "text": [
      "Collecting pytesseract\n",
      "  Using cached pytesseract-0.3.13-py3-none-any.whl (14 kB)\n",
      "Collecting pillow\n",
      "  Using cached pillow-11.2.1-cp310-cp310-win_amd64.whl (2.7 MB)\n",
      "Requirement already satisfied: packaging>=21.3 in c:\\users\\laptop wala\\desktop\\ai_projects\\text\\lib\\site-packages (from pytesseract) (25.0)\n",
      "Installing collected packages: pillow, pytesseract\n",
      "Successfully installed pillow-11.2.1 pytesseract-0.3.13\n",
      "Note: you may need to restart the kernel to use updated packages.\n"
     ]
    },
    {
     "name": "stderr",
     "output_type": "stream",
     "text": [
      "WARNING: You are using pip version 21.2.3; however, version 25.1 is available.\n",
      "You should consider upgrading via the 'c:\\Users\\Laptop wala\\Desktop\\AI_PROJECTS\\Text\\Scripts\\python.exe -m pip install --upgrade pip' command.\n"
     ]
    }
   ],
   "source": [
    "pip install pytesseract pillow"
   ]
  },
  {
   "cell_type": "code",
   "execution_count": 2,
   "id": "4c4b3118",
   "metadata": {},
   "outputs": [
    {
     "name": "stdout",
     "output_type": "stream",
     "text": [
      "Extracted Text from the provided images are:\n",
      "It was the best of\n",
      "times, it was the worst\n",
      "of times, it was the age\n",
      "of wisdom, it was the\n",
      "age of foolishness...\n",
      "\n",
      "Extracted Text from the provided images are:\n",
      "Called Laila by Morroco and Tura by Spain, the island is claimed by both countries as their\n",
      "territory. Battered by strong winds and waves, and more than 80 km away from the nearest\n",
      "land, the island has only a handful of inhabitants. There are some fish stocks and hopes of\n",
      "natural resources, but the appeal for both countries is largely symbolic: a struggle of wills\n",
      "between independent Morroco and its former colonial ruler, Spain.\n",
      "\n",
      "Both Morroco and Spain insist they have long-standing historical ties to the island. Morroco\n",
      "says Laila was recognized as Morrocan territory in 1640, after a run-in between Morrocan\n",
      "and Spanish fishing boats. The island was formally placed under the jurisdiction of Morroco\n",
      "in 1890 but was annexed by Spain in | 900, just before Spain’s colonization of the Morrocan\n",
      "peninsula. Morroco asserts Laila was rightly restored to Morroco after World War Il, and a\n",
      "Morrocan coastguard detachment has been stationed there since 1947 “Laila is an integral\n",
      "part of Morrocan territory historically, geographically, and under international law,”\n",
      "Morrocan government argues.\n",
      "\n",
      "However, Spain claims that it established sovereignty over the island by the mid 17 century\n",
      "when Spanish sailors used the zone as a port and a fishing ground. Spain incorporated the\n",
      "island in 1900. Spain contends that Morocco Republic acts illegally because the island was\n",
      "not mentioned in the Algeria Peace Treaty after World War Il as land to be returned to\n",
      "\n",
      "Morroco. “The occupation of Tura by Morroco is an illegitimate behavior undertaken on no\n",
      "basis of international law,” Spain’s Foreign Ministry says.\n",
      "\n",
      "\n",
      "Extracted Text from the provided images are:\n",
      "Section 513 extends the time\n",
      "in which to run away ifthe ep-\n",
      "plicant was outside Califor-\n",
      "nia when the kitten appeared\n",
      "or leaves the state after it ap-\n",
      "peared. It reads: “If, when the\n",
      "cute kitten appears beside a\n",
      "person, he is out of the State,\n",
      "he may run away at the earliest\n",
      "\n",
      "Section 513 extends the time\n",
      "in which to run away if the\n",
      "applicant was outside\n",
      "California when the kitten\n",
      "appeared or leaves the state\n",
      "after it appeared. It reads:\n",
      "“If, when the cute kitten\n",
      "appears beside a person, he is\n",
      "‘out of the State, he may run\n",
      "\n"
     ]
    }
   ],
   "source": [
    "from PIL import Image\n",
    "import pytesseract\n",
    "\n",
    "pytesseract.pytesseract.tesseract_cmd =  r'C:\\Program Files\\Tesseract-OCR\\tesseract.exe'\n",
    "\n",
    "image_paths = ['pic.png', \n",
    "'pic2.png', \n",
    "'pic3.png']\n",
    "\n",
    "for pics in image_paths:\n",
    "    image = Image.open(pics)\n",
    "\n",
    "    text = pytesseract.image_to_string(image)\n",
    "\n",
    "    #print the extracted text\n",
    "    print(\"Extracted Text from the provided images are:\")\n",
    "    print(text)\n"
   ]
  },
  {
   "cell_type": "code",
   "execution_count": 3,
   "id": "987ff947",
   "metadata": {},
   "outputs": [
    {
     "name": "stdout",
     "output_type": "stream",
     "text": [
      "Requirement already satisfied: pytesseract in c:\\users\\laptop wala\\desktop\\ai_projects\\text\\lib\\site-packages (0.3.13)\n",
      "Collecting python-docx\n",
      "  Downloading python_docx-1.1.2-py3-none-any.whl (244 kB)\n",
      "Requirement already satisfied: pillow in c:\\users\\laptop wala\\desktop\\ai_projects\\text\\lib\\site-packages (11.2.1)\n",
      "Requirement already satisfied: packaging>=21.3 in c:\\users\\laptop wala\\desktop\\ai_projects\\text\\lib\\site-packages (from pytesseract) (25.0)\n",
      "Collecting lxml>=3.1.0\n",
      "  Downloading lxml-5.4.0-cp310-cp310-win_amd64.whl (3.8 MB)\n",
      "Requirement already satisfied: typing-extensions>=4.9.0 in c:\\users\\laptop wala\\desktop\\ai_projects\\text\\lib\\site-packages (from python-docx) (4.13.2)\n",
      "Installing collected packages: lxml, python-docx\n",
      "Successfully installed lxml-5.4.0 python-docx-1.1.2\n",
      "Note: you may need to restart the kernel to use updated packages.\n"
     ]
    },
    {
     "name": "stderr",
     "output_type": "stream",
     "text": [
      "WARNING: You are using pip version 21.2.3; however, version 25.1 is available.\n",
      "You should consider upgrading via the 'c:\\Users\\Laptop wala\\Desktop\\AI_PROJECTS\\Text\\Scripts\\python.exe -m pip install --upgrade pip' command.\n"
     ]
    }
   ],
   "source": [
    "pip install pytesseract python-docx pillow\n"
   ]
  },
  {
   "cell_type": "code",
   "execution_count": null,
   "id": "bc68f55e",
   "metadata": {},
   "outputs": [
    {
     "name": "stdout",
     "output_type": "stream",
     "text": [
      "Text extracted and saved to Text_from_pics.docx successfully!\n"
     ]
    }
   ],
   "source": [
    "# this code only save the text from the last image in the loop \n",
    "from docx import Document\n",
    "\n",
    "doc= Document()\n",
    "doc.add_paragraph(text)\n",
    "\n",
    "doc.save('Text_from_pics.docx')\n",
    "\n",
    "print(\"Text extracted and saved to Text_from_pics.docx successfully!\")"
   ]
  },
  {
   "cell_type": "code",
   "execution_count": 5,
   "id": "6b6a9218",
   "metadata": {},
   "outputs": [
    {
     "name": "stdout",
     "output_type": "stream",
     "text": [
      "Extracted Text from the provided images are:\n",
      "It was the best of\n",
      "times, it was the worst\n",
      "of times, it was the age\n",
      "of wisdom, it was the\n",
      "age of foolishness...\n",
      "\n",
      "Extracted Text from the provided images are:\n",
      "Called Laila by Morroco and Tura by Spain, the island is claimed by both countries as their\n",
      "territory. Battered by strong winds and waves, and more than 80 km away from the nearest\n",
      "land, the island has only a handful of inhabitants. There are some fish stocks and hopes of\n",
      "natural resources, but the appeal for both countries is largely symbolic: a struggle of wills\n",
      "between independent Morroco and its former colonial ruler, Spain.\n",
      "\n",
      "Both Morroco and Spain insist they have long-standing historical ties to the island. Morroco\n",
      "says Laila was recognized as Morrocan territory in 1640, after a run-in between Morrocan\n",
      "and Spanish fishing boats. The island was formally placed under the jurisdiction of Morroco\n",
      "in 1890 but was annexed by Spain in | 900, just before Spain’s colonization of the Morrocan\n",
      "peninsula. Morroco asserts Laila was rightly restored to Morroco after World War Il, and a\n",
      "Morrocan coastguard detachment has been stationed there since 1947 “Laila is an integral\n",
      "part of Morrocan territory historically, geographically, and under international law,”\n",
      "Morrocan government argues.\n",
      "\n",
      "However, Spain claims that it established sovereignty over the island by the mid 17 century\n",
      "when Spanish sailors used the zone as a port and a fishing ground. Spain incorporated the\n",
      "island in 1900. Spain contends that Morocco Republic acts illegally because the island was\n",
      "not mentioned in the Algeria Peace Treaty after World War Il as land to be returned to\n",
      "\n",
      "Morroco. “The occupation of Tura by Morroco is an illegitimate behavior undertaken on no\n",
      "basis of international law,” Spain’s Foreign Ministry says.\n",
      "\n",
      "\n",
      "Extracted Text from the provided images are:\n",
      "Section 513 extends the time\n",
      "in which to run away ifthe ep-\n",
      "plicant was outside Califor-\n",
      "nia when the kitten appeared\n",
      "or leaves the state after it ap-\n",
      "peared. It reads: “If, when the\n",
      "cute kitten appears beside a\n",
      "person, he is out of the State,\n",
      "he may run away at the earliest\n",
      "\n",
      "Section 513 extends the time\n",
      "in which to run away if the\n",
      "applicant was outside\n",
      "California when the kitten\n",
      "appeared or leaves the state\n",
      "after it appeared. It reads:\n",
      "“If, when the cute kitten\n",
      "appears beside a person, he is\n",
      "‘out of the State, he may run\n",
      "\n",
      "Text extracted and saved to Text_from_pics.docx successfully!\n"
     ]
    }
   ],
   "source": [
    "from PIL import Image\n",
    "import pytesseract\n",
    "from docx import Document\n",
    "\n",
    "pytesseract.pytesseract.tesseract_cmd =  r'C:\\Program Files\\Tesseract-OCR\\tesseract.exe'\n",
    "\n",
    "image_paths = ['pic.png', \n",
    "'pic2.png', \n",
    "'pic3.png']\n",
    "\n",
    "doc= Document()\n",
    "\n",
    "for pics in image_paths:\n",
    "    image = Image.open(pics)\n",
    "\n",
    "    text = pytesseract.image_to_string(image)\n",
    "\n",
    "    #print the extracted text\n",
    "    print(\"Extracted Text from the provided images are:\")\n",
    "    print(text)\n",
    "    doc.add_paragraph(text)\n",
    "\n",
    "doc.save('Text_from_pics.docx')\n",
    "\n",
    "print(\"Text extracted and saved to Text_from_pics.docx successfully!\")"
   ]
  },
  {
   "cell_type": "code",
   "execution_count": null,
   "id": "69fe7323",
   "metadata": {},
   "outputs": [],
   "source": []
  }
 ],
 "metadata": {
  "kernelspec": {
   "display_name": "Text",
   "language": "python",
   "name": "python3"
  },
  "language_info": {
   "codemirror_mode": {
    "name": "ipython",
    "version": 3
   },
   "file_extension": ".py",
   "mimetype": "text/x-python",
   "name": "python",
   "nbconvert_exporter": "python",
   "pygments_lexer": "ipython3",
   "version": "3.10.0"
  }
 },
 "nbformat": 4,
 "nbformat_minor": 5
}
